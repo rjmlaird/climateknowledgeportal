{
 "cells": [
  {
   "attachments": {},
   "cell_type": "markdown",
   "id": "90700fdc-fcc7-4e54-8c9e-449879d8c66d",
   "metadata": {
    "tags": []
   },
   "source": [
    "## Manipulating NetCDF Files\n",
    "\n",
    "The following is an example of how one might manipulate and access data within the NetCDF file downloaded from the CCKP.\n",
    "\n",
    "We provide examples of opening and manipulating netCDF files using the following Python packages:\n",
    "\n",
    "  - `netCDF4`\n",
    "  - `xarray`\n",
    "\n",
    "\n",
    "First download the netCDF file from the CCKP website. The following code will download the file to your local machine.\n",
    "\n",
    "```python\n",
    "import urllib.request\n",
    "\n",
    "url = 'https://registry.opendata.aws/worldbankmaybesomethingelse/cckp_file.nc'\n",
    "urllib.request.urlretrieve(url, 'mylocalpathto/cckp_file.nc')\n",
    "```"
   ]
  },
  {
   "attachments": {},
   "cell_type": "markdown",
   "id": "e0d992a6-f656-45ce-a025-f824901e8797",
   "metadata": {},
   "source": [
    "### Using the `netCDF4` Package"
   ]
  },
  {
   "cell_type": "code",
   "execution_count": null,
   "id": "11920708",
   "metadata": {},
   "outputs": [],
   "source": [
    "# import the library\n",
    "import netCDF4 as nc"
   ]
  },
  {
   "cell_type": "code",
   "execution_count": null,
   "id": "814e39be",
   "metadata": {},
   "outputs": [],
   "source": [
    "# read the netcdf file\n",
    "data = nc.Dataset('data/air.mon.mean.nc')"
   ]
  },
  {
   "cell_type": "code",
   "execution_count": null,
   "id": "3d8056f7",
   "metadata": {},
   "outputs": [],
   "source": [
    "# print the data\n",
    "print(data)"
   ]
  },
  {
   "attachments": {},
   "cell_type": "markdown",
   "id": "fb8d2738-535e-4957-b82a-987891955a7f",
   "metadata": {},
   "source": [
    "### Using the `xarray` Package"
   ]
  },
  {
   "cell_type": "code",
   "execution_count": null,
   "id": "3d94f257",
   "metadata": {},
   "outputs": [],
   "source": [
    "# import the library\n",
    "import xarray as xr"
   ]
  },
  {
   "cell_type": "code",
   "execution_count": null,
   "id": "879b0923",
   "metadata": {},
   "outputs": [],
   "source": [
    "# read the netcdf file\n",
    "data = xr.open_dataset('data/air.mon.mean.nc')"
   ]
  },
  {
   "cell_type": "code",
   "execution_count": null,
   "id": "bf53acff",
   "metadata": {},
   "outputs": [],
   "source": [
    "# print the data\n",
    "print(data)"
   ]
  }
 ],
 "metadata": {
  "kernelspec": {
   "display_name": "Python 3 (ipykernel)",
   "language": "python",
   "name": "python3"
  },
  "language_info": {
   "codemirror_mode": {
    "name": "ipython",
    "version": 3
   },
   "file_extension": ".py",
   "mimetype": "text/x-python",
   "name": "python",
   "nbconvert_exporter": "python",
   "pygments_lexer": "ipython3",
   "version": "3.12.0"
  },
  "vscode": {
   "interpreter": {
    "hash": "b6702b69e93007336b96338c5a331192f07cedff01d36d4dcfa0f842adb718ad"
   }
  }
 },
 "nbformat": 4,
 "nbformat_minor": 5
}
